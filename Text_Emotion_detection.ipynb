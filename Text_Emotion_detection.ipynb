{
  "cells": [
    {
      "cell_type": "code",
      "source": [
        "from google.colab import drive\n",
        "drive.mount('/content/drive')"
      ],
      "metadata": {
        "colab": {
          "base_uri": "https://localhost:8080/"
        },
        "id": "zPquFJQZxWeP",
        "outputId": "149f1cc9-8183-482b-abd4-eb0d8218f965"
      },
      "execution_count": 2,
      "outputs": [
        {
          "output_type": "stream",
          "name": "stdout",
          "text": [
            "Mounted at /content/drive\n"
          ]
        }
      ]
    },
    {
      "cell_type": "code",
      "execution_count": 3,
      "metadata": {
        "id": "RshixYD3U_F-",
        "colab": {
          "base_uri": "https://localhost:8080/"
        },
        "outputId": "cc260b35-5732-4f3a-c41c-ec29b5460b80"
      },
      "outputs": [
        {
          "output_type": "stream",
          "name": "stdout",
          "text": [
            "Requirement already satisfied: pandas in /usr/local/lib/python3.11/dist-packages (2.2.2)\n",
            "Requirement already satisfied: scikit-learn in /usr/local/lib/python3.11/dist-packages (1.6.1)\n",
            "Requirement already satisfied: numpy>=1.23.2 in /usr/local/lib/python3.11/dist-packages (from pandas) (1.26.4)\n",
            "Requirement already satisfied: python-dateutil>=2.8.2 in /usr/local/lib/python3.11/dist-packages (from pandas) (2.8.2)\n",
            "Requirement already satisfied: pytz>=2020.1 in /usr/local/lib/python3.11/dist-packages (from pandas) (2025.1)\n",
            "Requirement already satisfied: tzdata>=2022.7 in /usr/local/lib/python3.11/dist-packages (from pandas) (2025.1)\n",
            "Requirement already satisfied: scipy>=1.6.0 in /usr/local/lib/python3.11/dist-packages (from scikit-learn) (1.13.1)\n",
            "Requirement already satisfied: joblib>=1.2.0 in /usr/local/lib/python3.11/dist-packages (from scikit-learn) (1.4.2)\n",
            "Requirement already satisfied: threadpoolctl>=3.1.0 in /usr/local/lib/python3.11/dist-packages (from scikit-learn) (3.5.0)\n",
            "Requirement already satisfied: six>=1.5 in /usr/local/lib/python3.11/dist-packages (from python-dateutil>=2.8.2->pandas) (1.17.0)\n",
            "                                                text  label\n",
            "0  i feel awful about it too because it s my job ...      0\n",
            "1                              im alone i feel awful      0\n",
            "2  ive probably mentioned this before but i reall...      1\n",
            "3           i was feeling a little low few days back      0\n",
            "4  i beleive that i am much more sensitive to oth...      2\n"
          ]
        }
      ],
      "source": [
        "!pip install pandas scikit-learn\n",
        "import pandas as pd\n",
        "\n",
        "# Load the dataset\n",
        "df = pd.read_parquet('/content/drive/MyDrive/Project_dataset/Textdata_emotion.parquet')\n",
        "\n",
        "# Preview the first few rows\n",
        "print(df.head())"
      ]
    },
    {
      "cell_type": "code",
      "execution_count": 4,
      "metadata": {
        "colab": {
          "base_uri": "https://localhost:8080/"
        },
        "id": "yusDkxCOVTz1",
        "outputId": "e56b3535-df77-4b1e-e5ec-80e8d2763e24"
      },
      "outputs": [
        {
          "output_type": "stream",
          "name": "stdout",
          "text": [
            "<class 'pandas.core.frame.DataFrame'>\n",
            "RangeIndex: 416809 entries, 0 to 416808\n",
            "Data columns (total 2 columns):\n",
            " #   Column  Non-Null Count   Dtype \n",
            "---  ------  --------------   ----- \n",
            " 0   text    416809 non-null  object\n",
            " 1   label   416809 non-null  int64 \n",
            "dtypes: int64(1), object(1)\n",
            "memory usage: 6.4+ MB\n",
            "None\n",
            "label\n",
            "1    141067\n",
            "0    121187\n",
            "3     57317\n",
            "4     47712\n",
            "2     34554\n",
            "5     14972\n",
            "Name: count, dtype: int64\n"
          ]
        }
      ],
      "source": [
        "# Check the structure of the data\n",
        "print(df.info())\n",
        "\n",
        "# Check the distribution of the target labels (emotions)\n",
        "print(df['label'].value_counts())"
      ]
    },
    {
      "cell_type": "code",
      "execution_count": 5,
      "metadata": {
        "id": "bN-jn8S7XoGG",
        "colab": {
          "base_uri": "https://localhost:8080/"
        },
        "outputId": "d5491aeb-d4cd-4fc4-e295-e8843760ac60"
      },
      "outputs": [
        {
          "output_type": "stream",
          "name": "stdout",
          "text": [
            "                                                text  emotion\n",
            "0  i feel awful about it too because it s my job ...  sadness\n",
            "1                              im alone i feel awful  sadness\n",
            "2  ive probably mentioned this before but i reall...      joy\n",
            "3           i was feeling a little low few days back  sadness\n",
            "4  i beleive that i am much more sensitive to oth...     love\n"
          ]
        }
      ],
      "source": [
        "# Map the labels to emotion names for better readability\n",
        "emotion_map = {0: 'sadness', 1: 'joy', 2: 'love', 3: 'anger', 4: 'fear', 5: 'surprise'}\n",
        "df['emotion'] = df['label'].map(emotion_map)\n",
        "\n",
        "# Preview the updated dataframe\n",
        "print(df[['text', 'emotion']].head())"
      ]
    },
    {
      "cell_type": "code",
      "execution_count": 6,
      "metadata": {
        "id": "rsiX42VJXtYp",
        "colab": {
          "base_uri": "https://localhost:8080/"
        },
        "outputId": "90f420b3-549e-4829-cbec-072b0487455e"
      },
      "outputs": [
        {
          "output_type": "stream",
          "name": "stderr",
          "text": [
            "/usr/local/lib/python3.11/dist-packages/sklearn/linear_model/_logistic.py:465: ConvergenceWarning: lbfgs failed to converge (status=1):\n",
            "STOP: TOTAL NO. of ITERATIONS REACHED LIMIT.\n",
            "\n",
            "Increase the number of iterations (max_iter) or scale the data as shown in:\n",
            "    https://scikit-learn.org/stable/modules/preprocessing.html\n",
            "Please also refer to the documentation for alternative solver options:\n",
            "    https://scikit-learn.org/stable/modules/linear_model.html#logistic-regression\n",
            "  n_iter_i = _check_optimize_result(\n"
          ]
        },
        {
          "output_type": "stream",
          "name": "stdout",
          "text": [
            "Accuracy: 0.9025455243396272\n",
            "              precision    recall  f1-score   support\n",
            "\n",
            "           0       0.94      0.94      0.94     24504\n",
            "           1       0.92      0.94      0.93     28247\n",
            "           2       0.81      0.77      0.79      6853\n",
            "           3       0.90      0.90      0.90     11339\n",
            "           4       0.85      0.86      0.86      9376\n",
            "           5       0.82      0.71      0.76      3043\n",
            "\n",
            "    accuracy                           0.90     83362\n",
            "   macro avg       0.87      0.85      0.86     83362\n",
            "weighted avg       0.90      0.90      0.90     83362\n",
            "\n"
          ]
        }
      ],
      "source": [
        "from sklearn.model_selection import train_test_split\n",
        "from sklearn.feature_extraction.text import TfidfVectorizer\n",
        "from sklearn.linear_model import LogisticRegression\n",
        "from sklearn.metrics import accuracy_score, classification_report\n",
        "import nltk\n",
        "from nltk.corpus import stopwords\n",
        "from nltk.stem import WordNetLemmatizer\n",
        "import re\n",
        "\n",
        "# Split data\n",
        "X = df['text']\n",
        "y = df['label'] # Assuming 'label' column contains emotion labels (0-5)\n",
        "X_train, X_test, y_train, y_test = train_test_split(X, y, test_size=0.2, random_state=42)\n",
        "\n",
        "\n",
        "# Vectorize text data\n",
        "vectorizer = TfidfVectorizer(max_features=5000)\n",
        "X_train_vec = vectorizer.fit_transform(X_train)\n",
        "X_test_vec = vectorizer.transform(X_test)\n",
        "\n",
        "\n",
        "# Train a Logistic Regression model\n",
        "model = LogisticRegression()\n",
        "model.fit(X_train_vec, y_train)\n",
        "\n",
        "\n",
        "# Predict and evaluate\n",
        "y_pred = model.predict(X_test_vec)\n",
        "accuracy = accuracy_score(y_test, y_pred)\n",
        "print(f\"Accuracy: {accuracy}\")\n",
        "print(classification_report(y_test, y_pred))"
      ]
    },
    {
      "cell_type": "code",
      "source": [
        "import joblib\n",
        "\n",
        "# Save the Logistic Regression model\n",
        "joblib.dump(model, 'text_emotion_model.pkl')\n",
        "\n",
        "# Save the TfidfVectorizer\n",
        "joblib.dump(vectorizer, 'tfidf_vectorizer.pkl')"
      ],
      "metadata": {
        "colab": {
          "base_uri": "https://localhost:8080/"
        },
        "id": "3SlyB5_kyF4D",
        "outputId": "7b5057a3-bff9-4bc5-8cb3-69d3b5b8f0ac"
      },
      "execution_count": 7,
      "outputs": [
        {
          "output_type": "execute_result",
          "data": {
            "text/plain": [
              "['tfidf_vectorizer.pkl']"
            ]
          },
          "metadata": {},
          "execution_count": 7
        }
      ]
    },
    {
      "cell_type": "code",
      "source": [
        "import joblib\n",
        "\n",
        "# Load the Logistic Regression model\n",
        "model = joblib.load('text_emotion_model.pkl')\n",
        "\n",
        "# Load the TfidfVectorizer\n",
        "vectorizer = joblib.load('tfidf_vectorizer.pkl')"
      ],
      "metadata": {
        "id": "wTK8DkpKyGxo"
      },
      "execution_count": 8,
      "outputs": []
    },
    {
      "cell_type": "code",
      "execution_count": 7,
      "metadata": {
        "id": "90CO8rK0XxI2",
        "colab": {
          "base_uri": "https://localhost:8080/"
        },
        "outputId": "7c8e7451-92f0-4d13-cb26-31eba935f0a0"
      },
      "outputs": [
        {
          "output_type": "stream",
          "name": "stdout",
          "text": [
            "Enter a text: i am very happy\n",
            "Predicted emotion: joy\n"
          ]
        }
      ],
      "source": [
        "# Get user input\n",
        "user_input = input(\"Enter a text: \")\n",
        "\n",
        "# Vectorize the user input\n",
        "user_input_vec = vectorizer.transform([user_input])\n",
        "\n",
        "# Predict the emotion\n",
        "predicted_label = model.predict(user_input_vec)[0]\n",
        "\n",
        "# Map the predicted label to the emotion name\n",
        "predicted_emotion = emotion_map[predicted_label]\n",
        "\n",
        "# Print the predicted emotion\n",
        "print(f\"Predicted emotion: {predicted_emotion}\")"
      ]
    }
  ],
  "metadata": {
    "colab": {
      "provenance": []
    },
    "kernelspec": {
      "display_name": "Python 3",
      "name": "python3"
    },
    "language_info": {
      "name": "python"
    }
  },
  "nbformat": 4,
  "nbformat_minor": 0
}